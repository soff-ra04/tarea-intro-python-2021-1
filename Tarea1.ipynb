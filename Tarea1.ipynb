{
  "nbformat": 4,
  "nbformat_minor": 0,
  "metadata": {
    "colab": {
      "name": "Tarea1.ipynb",
      "provenance": []
    },
    "kernelspec": {
      "name": "python3",
      "display_name": "Python 3"
    },
    "language_info": {
      "name": "python"
    }
  },
  "cells": [
    {
      "cell_type": "code",
      "metadata": {
        "colab": {
          "base_uri": "https://localhost:8080/"
        },
        "id": "mIr2oQPocbG2",
        "outputId": "4a5ca98b-48dd-44bd-8534-9bc89bb94543"
      },
      "source": [
        "print (\"Hola Mundo\")"
      ],
      "execution_count": null,
      "outputs": [
        {
          "output_type": "stream",
          "text": [
            "Hola Mundo\n"
          ],
          "name": "stdout"
        }
      ]
    },
    {
      "cell_type": "code",
      "metadata": {
        "colab": {
          "base_uri": "https://localhost:8080/"
        },
        "id": "Qwn-geU_ePyx",
        "outputId": "9c0efd36-14fa-49e6-855a-1add8c5472b4"
      },
      "source": [
        "Nombre= \"Sofía R.\"\n",
        "Edad= \"15 años\"\n",
        "País= \"Costa Rica\"\n",
        "print(Nombre,Edad,País)"
      ],
      "execution_count": null,
      "outputs": [
        {
          "output_type": "stream",
          "text": [
            "Sofía R. 15 años Costa Rica\n"
          ],
          "name": "stdout"
        }
      ]
    },
    {
      "cell_type": "code",
      "metadata": {
        "colab": {
          "base_uri": "https://localhost:8080/"
        },
        "id": "2jmp2IW4eQAE",
        "outputId": "46dda444-b948-4121-94b0-9402614152f4"
      },
      "source": [
        "type (Nombre)"
      ],
      "execution_count": null,
      "outputs": [
        {
          "output_type": "execute_result",
          "data": {
            "text/plain": [
              "str"
            ]
          },
          "metadata": {
            "tags": []
          },
          "execution_count": 6
        }
      ]
    },
    {
      "cell_type": "code",
      "metadata": {
        "colab": {
          "base_uri": "https://localhost:8080/"
        },
        "id": "24TOBHG1eQKr",
        "outputId": "76ada89d-4513-4082-d061-fbb684e0fff4"
      },
      "source": [
        "type (Edad)"
      ],
      "execution_count": null,
      "outputs": [
        {
          "output_type": "execute_result",
          "data": {
            "text/plain": [
              "str"
            ]
          },
          "metadata": {
            "tags": []
          },
          "execution_count": 7
        }
      ]
    },
    {
      "cell_type": "code",
      "metadata": {
        "colab": {
          "base_uri": "https://localhost:8080/"
        },
        "id": "MME2AmNngXqh",
        "outputId": "4f7d0fc3-4440-4606-a4c4-5a2e989eeba1"
      },
      "source": [
        "type (País)"
      ],
      "execution_count": null,
      "outputs": [
        {
          "output_type": "execute_result",
          "data": {
            "text/plain": [
              "str"
            ]
          },
          "metadata": {
            "tags": []
          },
          "execution_count": 8
        }
      ]
    },
    {
      "cell_type": "code",
      "metadata": {
        "colab": {
          "base_uri": "https://localhost:8080/"
        },
        "id": "6rB3IAxsghrR",
        "outputId": "930aa60f-c9e5-4ff8-b9c1-b893b020c101"
      },
      "source": [
        "print (\"En astronomía, la clasificación estelar\\nes la clasificación de las estrellas en\\nfunción de sus características espectrales.\")"
      ],
      "execution_count": null,
      "outputs": [
        {
          "output_type": "stream",
          "text": [
            "En astronomía, la clasificación estelar\n",
            "es la clasificación de las estrellas en\n",
            "función de sus características espectrales.\n"
          ],
          "name": "stdout"
        }
      ]
    },
    {
      "cell_type": "code",
      "metadata": {
        "colab": {
          "base_uri": "https://localhost:8080/"
        },
        "id": "xRicYv2bghuV",
        "outputId": "f87290dd-c88c-4107-ba18-e97035ee5cf2"
      },
      "source": [
        "print (\"Hipergigantes\", \"Subgigantes\", \"Secuencia principal\",sep=\"---\", end=\"*\")"
      ],
      "execution_count": null,
      "outputs": [
        {
          "output_type": "stream",
          "text": [
            "Hipergigantes---Subgigantes---Secuencia principal*"
          ],
          "name": "stdout"
        }
      ]
    },
    {
      "cell_type": "code",
      "metadata": {
        "id": "SwF7ANO4i-zQ"
      },
      "source": [
        "m_solar = 1,98892*10**30\n",
        "m_jupiter= 1,98892*10**30/1048"
      ],
      "execution_count": null,
      "outputs": []
    },
    {
      "cell_type": "code",
      "metadata": {
        "colab": {
          "base_uri": "https://localhost:8080/"
        },
        "id": "dXsR_1eai_AP",
        "outputId": "ac8859b1-3fc7-4291-b030-812536aabf8c"
      },
      "source": [
        "print(f\" {m_solar} \",f\"{m_jupiter } \")"
      ],
      "execution_count": null,
      "outputs": [
        {
          "output_type": "stream",
          "text": [
            " (1, 98892000000000000000000000000000000)  (1, 9.436259541984732e+31) \n"
          ],
          "name": "stdout"
        }
      ]
    },
    {
      "cell_type": "code",
      "metadata": {
        "id": "tNdMDmnKgXx_"
      },
      "source": [
        "me= 0.389\n",
        "v= 0.723\n",
        "ma= 1.524\n",
        "j= 5.203\n",
        "sa= 9.537\n",
        "AU= 1"
      ],
      "execution_count": null,
      "outputs": []
    },
    {
      "cell_type": "code",
      "metadata": {
        "colab": {
          "base_uri": "https://localhost:8080/"
        },
        "id": "Zns0ujZPmZvH",
        "outputId": "f3979172-42ce-4c88-c44c-83cd2ae96534"
      },
      "source": [
        "me>AU\n"
      ],
      "execution_count": null,
      "outputs": [
        {
          "output_type": "execute_result",
          "data": {
            "text/plain": [
              "False"
            ]
          },
          "metadata": {
            "tags": []
          },
          "execution_count": 61
        }
      ]
    },
    {
      "cell_type": "code",
      "metadata": {
        "colab": {
          "base_uri": "https://localhost:8080/"
        },
        "id": "zFbPVXmzmZ2Q",
        "outputId": "f1879bc6-3d91-4617-f749-94a9941aa7bb"
      },
      "source": [
        "v>AU"
      ],
      "execution_count": null,
      "outputs": [
        {
          "output_type": "execute_result",
          "data": {
            "text/plain": [
              "False"
            ]
          },
          "metadata": {
            "tags": []
          },
          "execution_count": 65
        }
      ]
    },
    {
      "cell_type": "code",
      "metadata": {
        "colab": {
          "base_uri": "https://localhost:8080/"
        },
        "id": "AwacOu0wrIJR",
        "outputId": "a9389b7f-272a-484d-c7b9-27293b9445a0"
      },
      "source": [
        "ma>AU"
      ],
      "execution_count": null,
      "outputs": [
        {
          "output_type": "execute_result",
          "data": {
            "text/plain": [
              "True"
            ]
          },
          "metadata": {
            "tags": []
          },
          "execution_count": 64
        }
      ]
    },
    {
      "cell_type": "code",
      "metadata": {
        "colab": {
          "base_uri": "https://localhost:8080/"
        },
        "id": "vzqo0PbnrIMn",
        "outputId": "2d5a5742-92af-4070-e319-dab6db15f1cd"
      },
      "source": [
        "j>AU"
      ],
      "execution_count": null,
      "outputs": [
        {
          "output_type": "execute_result",
          "data": {
            "text/plain": [
              "True"
            ]
          },
          "metadata": {
            "tags": []
          },
          "execution_count": 63
        }
      ]
    },
    {
      "cell_type": "code",
      "metadata": {
        "colab": {
          "base_uri": "https://localhost:8080/"
        },
        "id": "sgGCRqJcrIQK",
        "outputId": "6751adaa-d947-4675-8aa9-b042b7e5c989"
      },
      "source": [
        "sa>AU"
      ],
      "execution_count": null,
      "outputs": [
        {
          "output_type": "execute_result",
          "data": {
            "text/plain": [
              "True"
            ]
          },
          "metadata": {
            "tags": []
          },
          "execution_count": 62
        }
      ]
    }
  ]
}